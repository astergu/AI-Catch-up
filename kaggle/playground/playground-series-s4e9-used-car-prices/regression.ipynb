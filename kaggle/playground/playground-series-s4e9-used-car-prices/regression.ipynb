{
 "cells": [
  {
   "cell_type": "code",
   "execution_count": 34,
   "metadata": {},
   "outputs": [],
   "source": [
    "import numpy as np # linear algebra\n",
    "import pandas as pd # data processing, CSV file I/O (e.g. pd.read_csv)"
   ]
  },
  {
   "cell_type": "code",
   "execution_count": 35,
   "metadata": {},
   "outputs": [
    {
     "name": "stdout",
     "output_type": "stream",
     "text": [
      "<class 'pandas.core.frame.DataFrame'>\n",
      "RangeIndex: 188533 entries, 0 to 188532\n",
      "Data columns (total 13 columns):\n",
      " #   Column        Non-Null Count   Dtype \n",
      "---  ------        --------------   ----- \n",
      " 0   id            188533 non-null  int64 \n",
      " 1   brand         188533 non-null  object\n",
      " 2   model         188533 non-null  object\n",
      " 3   model_year    188533 non-null  int64 \n",
      " 4   milage        188533 non-null  int64 \n",
      " 5   fuel_type     183450 non-null  object\n",
      " 6   engine        188533 non-null  object\n",
      " 7   transmission  188533 non-null  object\n",
      " 8   ext_col       188533 non-null  object\n",
      " 9   int_col       188533 non-null  object\n",
      " 10  accident      186081 non-null  object\n",
      " 11  clean_title   167114 non-null  object\n",
      " 12  price         188533 non-null  int64 \n",
      "dtypes: int64(4), object(9)\n",
      "memory usage: 18.7+ MB\n",
      "None\n",
      "   id          brand              model  model_year  milage      fuel_type  \\\n",
      "0   0           MINI      Cooper S Base        2007  213000       Gasoline   \n",
      "1   1        Lincoln              LS V8        2002  143250       Gasoline   \n",
      "2   2      Chevrolet  Silverado 2500 LT        2002  136731  E85 Flex Fuel   \n",
      "3   3        Genesis   G90 5.0 Ultimate        2017   19500       Gasoline   \n",
      "4   4  Mercedes-Benz        Metris Base        2021    7388       Gasoline   \n",
      "\n",
      "                                              engine  \\\n",
      "0       172.0HP 1.6L 4 Cylinder Engine Gasoline Fuel   \n",
      "1       252.0HP 3.9L 8 Cylinder Engine Gasoline Fuel   \n",
      "2  320.0HP 5.3L 8 Cylinder Engine Flex Fuel Capab...   \n",
      "3       420.0HP 5.0L 8 Cylinder Engine Gasoline Fuel   \n",
      "4       208.0HP 2.0L 4 Cylinder Engine Gasoline Fuel   \n",
      "\n",
      "                     transmission ext_col int_col  \\\n",
      "0                             A/T  Yellow    Gray   \n",
      "1                             A/T  Silver   Beige   \n",
      "2                             A/T    Blue    Gray   \n",
      "3  Transmission w/Dual Shift Mode   Black   Black   \n",
      "4                     7-Speed A/T   Black   Beige   \n",
      "\n",
      "                                 accident clean_title  price  \n",
      "0                           None reported         Yes   4200  \n",
      "1  At least 1 accident or damage reported         Yes   4999  \n",
      "2                           None reported         Yes  13900  \n",
      "3                           None reported         Yes  45000  \n",
      "4                           None reported         Yes  97500  \n"
     ]
    }
   ],
   "source": [
    "train = pd.read_csv('./data/train.csv')\n",
    "print(train.info())\n",
    "print(train.head())"
   ]
  },
  {
   "cell_type": "code",
   "execution_count": 36,
   "metadata": {},
   "outputs": [
    {
     "name": "stdout",
     "output_type": "stream",
     "text": [
      "id              100.000000\n",
      "brand           100.000000\n",
      "model           100.000000\n",
      "model_year      100.000000\n",
      "milage          100.000000\n",
      "fuel_type        97.303920\n",
      "engine          100.000000\n",
      "transmission    100.000000\n",
      "ext_col         100.000000\n",
      "int_col         100.000000\n",
      "accident         98.699432\n",
      "clean_title      88.639124\n",
      "price           100.000000\n",
      "dtype: float64\n"
     ]
    }
   ],
   "source": [
    "percentage_non_null = train.notnull().sum() * 100 / len(train)\n",
    "print(percentage_non_null)"
   ]
  },
  {
   "cell_type": "markdown",
   "metadata": {},
   "source": [
    "# Brand & Models"
   ]
  },
  {
   "cell_type": "code",
   "execution_count": 37,
   "metadata": {},
   "outputs": [
    {
     "name": "stdout",
     "output_type": "stream",
     "text": [
      "57\n"
     ]
    }
   ],
   "source": [
    "print(train['brand'].nunique())"
   ]
  },
  {
   "cell_type": "code",
   "execution_count": 38,
   "metadata": {},
   "outputs": [
    {
     "data": {
      "text/plain": [
       "brand\n",
       "Acura             85\n",
       "Alfa               7\n",
       "Aston             11\n",
       "Audi             183\n",
       "BMW              255\n",
       "Bentley           26\n",
       "Bugatti            1\n",
       "Buick             32\n",
       "Cadillac         104\n",
       "Chevrolet        237\n",
       "Chrysler          32\n",
       "Dodge             96\n",
       "FIAT               8\n",
       "Ferrari           33\n",
       "Ford             304\n",
       "GMC               69\n",
       "Genesis           25\n",
       "Honda             71\n",
       "Hummer             4\n",
       "Hyundai           70\n",
       "INFINITI          57\n",
       "Jaguar            50\n",
       "Jeep              78\n",
       "Karma              2\n",
       "Kia               71\n",
       "Lamborghini       27\n",
       "Land              83\n",
       "Lexus            131\n",
       "Lincoln           82\n",
       "Lotus              6\n",
       "Lucid              7\n",
       "MINI              13\n",
       "Maserati          30\n",
       "Maybach            1\n",
       "Mazda             67\n",
       "McLaren           10\n",
       "Mercedes-Benz    265\n",
       "Mercury            6\n",
       "Mitsubishi        22\n",
       "Nissan           178\n",
       "Plymouth           2\n",
       "Polestar           1\n",
       "Pontiac           19\n",
       "Porsche          158\n",
       "RAM               47\n",
       "Rivian             4\n",
       "Rolls-Royce        7\n",
       "Saab               2\n",
       "Saturn             3\n",
       "Scion             10\n",
       "Subaru            57\n",
       "Suzuki             4\n",
       "Tesla             39\n",
       "Toyota           224\n",
       "Volkswagen        92\n",
       "Volvo             45\n",
       "smart              2\n",
       "Name: model, dtype: int64"
      ]
     },
     "execution_count": 38,
     "metadata": {},
     "output_type": "execute_result"
    }
   ],
   "source": [
    "train.groupby('brand')['model'].nunique()\n",
    "#train.groupby('brand')['model'].unique()"
   ]
  },
  {
   "cell_type": "code",
   "execution_count": 39,
   "metadata": {},
   "outputs": [
    {
     "name": "stdout",
     "output_type": "stream",
     "text": [
      "brand\n",
      "Acura             43\n",
      "Alfa               1\n",
      "Aston              4\n",
      "Audi              74\n",
      "BMW              136\n",
      "Bentley           10\n",
      "Bugatti            1\n",
      "Buick             23\n",
      "Cadillac          56\n",
      "Chevrolet         94\n",
      "Chrysler          23\n",
      "Dodge             41\n",
      "FIAT               7\n",
      "Ferrari           28\n",
      "Ford             142\n",
      "GMC               26\n",
      "Genesis           16\n",
      "Honda             44\n",
      "Hummer             3\n",
      "Hyundai           35\n",
      "INFINITI          39\n",
      "Jaguar            24\n",
      "Jeep              34\n",
      "Karma              2\n",
      "Kia               36\n",
      "Lamborghini       13\n",
      "Land              10\n",
      "Lexus             75\n",
      "Lincoln           52\n",
      "Lotus              4\n",
      "Lucid              6\n",
      "MINI               7\n",
      "Maserati          16\n",
      "Maybach            1\n",
      "Mazda             32\n",
      "McLaren            9\n",
      "Mercedes-Benz    131\n",
      "Mercury            6\n",
      "Mitsubishi        11\n",
      "Nissan           121\n",
      "Plymouth           2\n",
      "Polestar           1\n",
      "Pontiac           16\n",
      "Porsche           70\n",
      "RAM               18\n",
      "Rivian             3\n",
      "Rolls-Royce        6\n",
      "Saab               1\n",
      "Saturn             2\n",
      "Scion              8\n",
      "Subaru            25\n",
      "Suzuki             4\n",
      "Tesla             10\n",
      "Toyota           110\n",
      "Volkswagen        55\n",
      "Volvo             29\n",
      "smart              2\n",
      "Name: model_name, dtype: int64\n"
     ]
    },
    {
     "data": {
      "text/html": [
       "<div>\n",
       "<style scoped>\n",
       "    .dataframe tbody tr th:only-of-type {\n",
       "        vertical-align: middle;\n",
       "    }\n",
       "\n",
       "    .dataframe tbody tr th {\n",
       "        vertical-align: top;\n",
       "    }\n",
       "\n",
       "    .dataframe thead th {\n",
       "        text-align: right;\n",
       "    }\n",
       "</style>\n",
       "<table border=\"1\" class=\"dataframe\">\n",
       "  <thead>\n",
       "    <tr style=\"text-align: right;\">\n",
       "      <th></th>\n",
       "      <th>brand</th>\n",
       "      <th>model</th>\n",
       "      <th>model_name</th>\n",
       "      <th>model_config</th>\n",
       "    </tr>\n",
       "  </thead>\n",
       "  <tbody>\n",
       "    <tr>\n",
       "      <th>2</th>\n",
       "      <td>Chevrolet</td>\n",
       "      <td>Silverado 2500 LT</td>\n",
       "      <td>Silverado</td>\n",
       "      <td>2500 LT</td>\n",
       "    </tr>\n",
       "    <tr>\n",
       "      <th>7</th>\n",
       "      <td>Chevrolet</td>\n",
       "      <td>Silverado 1500 1LZ</td>\n",
       "      <td>Silverado</td>\n",
       "      <td>1500 1LZ</td>\n",
       "    </tr>\n",
       "    <tr>\n",
       "      <th>10</th>\n",
       "      <td>Chevrolet</td>\n",
       "      <td>Camaro 1LT</td>\n",
       "      <td>Camaro</td>\n",
       "      <td>1LT</td>\n",
       "    </tr>\n",
       "    <tr>\n",
       "      <th>42</th>\n",
       "      <td>Chevrolet</td>\n",
       "      <td>Corvette Grand Sport</td>\n",
       "      <td>Corvette</td>\n",
       "      <td>Grand Sport</td>\n",
       "    </tr>\n",
       "    <tr>\n",
       "      <th>46</th>\n",
       "      <td>Chevrolet</td>\n",
       "      <td>Corvette Base</td>\n",
       "      <td>Corvette</td>\n",
       "      <td>Base</td>\n",
       "    </tr>\n",
       "    <tr>\n",
       "      <th>...</th>\n",
       "      <td>...</td>\n",
       "      <td>...</td>\n",
       "      <td>...</td>\n",
       "      <td>...</td>\n",
       "    </tr>\n",
       "    <tr>\n",
       "      <th>188480</th>\n",
       "      <td>Chevrolet</td>\n",
       "      <td>Traverse RS</td>\n",
       "      <td>Traverse</td>\n",
       "      <td>RS</td>\n",
       "    </tr>\n",
       "    <tr>\n",
       "      <th>188486</th>\n",
       "      <td>Chevrolet</td>\n",
       "      <td>Tahoe LTZ</td>\n",
       "      <td>Tahoe</td>\n",
       "      <td>LTZ</td>\n",
       "    </tr>\n",
       "    <tr>\n",
       "      <th>188507</th>\n",
       "      <td>Chevrolet</td>\n",
       "      <td>Corvette Stingray w/3LT</td>\n",
       "      <td>Corvette</td>\n",
       "      <td>Stingray w/3LT</td>\n",
       "    </tr>\n",
       "    <tr>\n",
       "      <th>188524</th>\n",
       "      <td>Chevrolet</td>\n",
       "      <td>Camaro 1LT</td>\n",
       "      <td>Camaro</td>\n",
       "      <td>1LT</td>\n",
       "    </tr>\n",
       "    <tr>\n",
       "      <th>188527</th>\n",
       "      <td>Chevrolet</td>\n",
       "      <td>Camaro Z28</td>\n",
       "      <td>Camaro</td>\n",
       "      <td>Z28</td>\n",
       "    </tr>\n",
       "  </tbody>\n",
       "</table>\n",
       "<p>16335 rows × 4 columns</p>\n",
       "</div>"
      ],
      "text/plain": [
       "            brand                    model model_name    model_config\n",
       "2       Chevrolet        Silverado 2500 LT  Silverado         2500 LT\n",
       "7       Chevrolet       Silverado 1500 1LZ  Silverado        1500 1LZ\n",
       "10      Chevrolet               Camaro 1LT     Camaro             1LT\n",
       "42      Chevrolet     Corvette Grand Sport   Corvette     Grand Sport\n",
       "46      Chevrolet            Corvette Base   Corvette            Base\n",
       "...           ...                      ...        ...             ...\n",
       "188480  Chevrolet              Traverse RS   Traverse              RS\n",
       "188486  Chevrolet                Tahoe LTZ      Tahoe             LTZ\n",
       "188507  Chevrolet  Corvette Stingray w/3LT   Corvette  Stingray w/3LT\n",
       "188524  Chevrolet               Camaro 1LT     Camaro             1LT\n",
       "188527  Chevrolet               Camaro Z28     Camaro             Z28\n",
       "\n",
       "[16335 rows x 4 columns]"
      ]
     },
     "execution_count": 39,
     "metadata": {},
     "output_type": "execute_result"
    }
   ],
   "source": [
    "train[['model_name', 'model_config']] = train['model'].str.split(' ', n=1, expand=True)\n",
    "car_model = train[['brand', 'model', 'model_name', 'model_config']]\n",
    "#print(car_model)\n",
    "\n",
    "print(train.groupby('brand')['model_name'].nunique())\n",
    "car_model[car_model['brand']=='Chevrolet'][['brand', 'model', 'model_name', 'model_config']]"
   ]
  },
  {
   "cell_type": "code",
   "execution_count": 40,
   "metadata": {},
   "outputs": [
    {
     "name": "stdout",
     "output_type": "stream",
     "text": [
      "   id          brand              model  model_year  milage      fuel_type  \\\n",
      "0   0           MINI      Cooper S Base        2007  213000       Gasoline   \n",
      "1   1        Lincoln              LS V8        2002  143250       Gasoline   \n",
      "2   2      Chevrolet  Silverado 2500 LT        2002  136731  E85 Flex Fuel   \n",
      "3   3        Genesis   G90 5.0 Ultimate        2017   19500       Gasoline   \n",
      "4   4  Mercedes-Benz        Metris Base        2021    7388       Gasoline   \n",
      "\n",
      "                                              engine  \\\n",
      "0       172.0HP 1.6L 4 Cylinder Engine Gasoline Fuel   \n",
      "1       252.0HP 3.9L 8 Cylinder Engine Gasoline Fuel   \n",
      "2  320.0HP 5.3L 8 Cylinder Engine Flex Fuel Capab...   \n",
      "3       420.0HP 5.0L 8 Cylinder Engine Gasoline Fuel   \n",
      "4       208.0HP 2.0L 4 Cylinder Engine Gasoline Fuel   \n",
      "\n",
      "                     transmission ext_col int_col  \\\n",
      "0                             A/T  Yellow    Gray   \n",
      "1                             A/T  Silver   Beige   \n",
      "2                             A/T    Blue    Gray   \n",
      "3  Transmission w/Dual Shift Mode   Black   Black   \n",
      "4                     7-Speed A/T   Black   Beige   \n",
      "\n",
      "                                 accident clean_title  price model_name  \\\n",
      "0                           None reported         Yes   4200     Cooper   \n",
      "1  At least 1 accident or damage reported         Yes   4999         LS   \n",
      "2                           None reported         Yes  13900  Silverado   \n",
      "3                           None reported         Yes  45000        G90   \n",
      "4                           None reported         Yes  97500     Metris   \n",
      "\n",
      "   model_config  \n",
      "0        S Base  \n",
      "1            V8  \n",
      "2       2500 LT  \n",
      "3  5.0 Ultimate  \n",
      "4          Base  \n"
     ]
    }
   ],
   "source": [
    "print(train.head())"
   ]
  },
  {
   "cell_type": "markdown",
   "metadata": {},
   "source": [
    "# Fuel Type"
   ]
  },
  {
   "cell_type": "code",
   "execution_count": 41,
   "metadata": {},
   "outputs": [
    {
     "name": "stdout",
     "output_type": "stream",
     "text": [
      "[Fuel Type]:  ['Gasoline' 'E85 Flex Fuel' nan 'Hybrid' 'Diesel' 'Plug-In Hybrid' '–'\n",
      " 'not supported']\n",
      "[accident]:  ['None reported' 'At least 1 accident or damage reported' nan]\n",
      "[clean_title]:  ['Yes' nan]\n"
     ]
    }
   ],
   "source": [
    "print('[Fuel Type]: ', train['fuel_type'].unique())\n",
    "print('[accident]: ', train['accident'].unique())\n",
    "print('[clean_title]: ', train['clean_title'].unique())"
   ]
  },
  {
   "cell_type": "code",
   "execution_count": 42,
   "metadata": {},
   "outputs": [
    {
     "name": "stdout",
     "output_type": "stream",
     "text": [
      "<class 'pandas.core.frame.DataFrame'>\n",
      "RangeIndex: 188533 entries, 0 to 188532\n",
      "Data columns (total 15 columns):\n",
      " #   Column        Non-Null Count   Dtype \n",
      "---  ------        --------------   ----- \n",
      " 0   id            188533 non-null  int64 \n",
      " 1   brand         188533 non-null  object\n",
      " 2   model         188533 non-null  object\n",
      " 3   model_year    188533 non-null  int64 \n",
      " 4   milage        188533 non-null  int64 \n",
      " 5   fuel_type     183450 non-null  object\n",
      " 6   engine        188533 non-null  object\n",
      " 7   transmission  188533 non-null  object\n",
      " 8   ext_col       188533 non-null  object\n",
      " 9   int_col       188533 non-null  object\n",
      " 10  accident      186081 non-null  object\n",
      " 11  clean_title   167114 non-null  object\n",
      " 12  price         188533 non-null  int64 \n",
      " 13  model_name    188533 non-null  object\n",
      " 14  model_config  188014 non-null  object\n",
      "dtypes: int64(4), object(11)\n",
      "memory usage: 21.6+ MB\n",
      "None\n"
     ]
    }
   ],
   "source": [
    "print(train.info())"
   ]
  },
  {
   "cell_type": "markdown",
   "metadata": {},
   "source": [
    "# Feature Inspection"
   ]
  },
  {
   "cell_type": "markdown",
   "metadata": {},
   "source": []
  },
  {
   "cell_type": "markdown",
   "metadata": {},
   "source": [
    "# Feature Engineering"
   ]
  },
  {
   "cell_type": "code",
   "execution_count": null,
   "metadata": {},
   "outputs": [],
   "source": []
  },
  {
   "cell_type": "markdown",
   "metadata": {},
   "source": [
    "# Model Training"
   ]
  },
  {
   "cell_type": "code",
   "execution_count": null,
   "metadata": {},
   "outputs": [],
   "source": [
    "# convert object features to float values\n"
   ]
  },
  {
   "cell_type": "code",
   "execution_count": 44,
   "metadata": {},
   "outputs": [
    {
     "name": "stderr",
     "output_type": "stream",
     "text": [
      "/Users/myra/opt/anaconda3/lib/python3.8/site-packages/sklearn/model_selection/_validation.py:548: FitFailedWarning: Estimator fit failed. The score on this train-test partition for these parameters will be set to nan. Details: \n",
      "Traceback (most recent call last):\n",
      "  File \"/Users/myra/opt/anaconda3/lib/python3.8/site-packages/sklearn/model_selection/_validation.py\", line 531, in _fit_and_score\n",
      "    estimator.fit(X_train, y_train, **fit_params)\n",
      "  File \"/Users/myra/opt/anaconda3/lib/python3.8/site-packages/sklearn/ensemble/_forest.py\", line 303, in fit\n",
      "    X, y = self._validate_data(X, y, multi_output=True,\n",
      "  File \"/Users/myra/opt/anaconda3/lib/python3.8/site-packages/sklearn/base.py\", line 432, in _validate_data\n",
      "    X, y = check_X_y(X, y, **check_params)\n",
      "  File \"/Users/myra/opt/anaconda3/lib/python3.8/site-packages/sklearn/utils/validation.py\", line 72, in inner_f\n",
      "    return f(**kwargs)\n",
      "  File \"/Users/myra/opt/anaconda3/lib/python3.8/site-packages/sklearn/utils/validation.py\", line 795, in check_X_y\n",
      "    X = check_array(X, accept_sparse=accept_sparse,\n",
      "  File \"/Users/myra/opt/anaconda3/lib/python3.8/site-packages/sklearn/utils/validation.py\", line 72, in inner_f\n",
      "    return f(**kwargs)\n",
      "  File \"/Users/myra/opt/anaconda3/lib/python3.8/site-packages/sklearn/utils/validation.py\", line 598, in check_array\n",
      "    array = np.asarray(array, order=order, dtype=dtype)\n",
      "  File \"/Users/myra/opt/anaconda3/lib/python3.8/site-packages/numpy/core/_asarray.py\", line 83, in asarray\n",
      "    return array(a, dtype, copy=False, order=order)\n",
      "  File \"/Users/myra/opt/anaconda3/lib/python3.8/site-packages/pandas/core/generic.py\", line 1781, in __array__\n",
      "    return np.asarray(self._values, dtype=dtype)\n",
      "  File \"/Users/myra/opt/anaconda3/lib/python3.8/site-packages/numpy/core/_asarray.py\", line 83, in asarray\n",
      "    return array(a, dtype, copy=False, order=order)\n",
      "ValueError: could not convert string to float: 'Porsche'\n",
      "\n",
      "  warnings.warn(\"Estimator fit failed. The score on this train-test\"\n",
      "/Users/myra/opt/anaconda3/lib/python3.8/site-packages/sklearn/model_selection/_validation.py:548: FitFailedWarning: Estimator fit failed. The score on this train-test partition for these parameters will be set to nan. Details: \n",
      "Traceback (most recent call last):\n",
      "  File \"/Users/myra/opt/anaconda3/lib/python3.8/site-packages/sklearn/model_selection/_validation.py\", line 531, in _fit_and_score\n",
      "    estimator.fit(X_train, y_train, **fit_params)\n",
      "  File \"/Users/myra/opt/anaconda3/lib/python3.8/site-packages/sklearn/ensemble/_forest.py\", line 303, in fit\n",
      "    X, y = self._validate_data(X, y, multi_output=True,\n",
      "  File \"/Users/myra/opt/anaconda3/lib/python3.8/site-packages/sklearn/base.py\", line 432, in _validate_data\n",
      "    X, y = check_X_y(X, y, **check_params)\n",
      "  File \"/Users/myra/opt/anaconda3/lib/python3.8/site-packages/sklearn/utils/validation.py\", line 72, in inner_f\n",
      "    return f(**kwargs)\n",
      "  File \"/Users/myra/opt/anaconda3/lib/python3.8/site-packages/sklearn/utils/validation.py\", line 795, in check_X_y\n",
      "    X = check_array(X, accept_sparse=accept_sparse,\n",
      "  File \"/Users/myra/opt/anaconda3/lib/python3.8/site-packages/sklearn/utils/validation.py\", line 72, in inner_f\n",
      "    return f(**kwargs)\n",
      "  File \"/Users/myra/opt/anaconda3/lib/python3.8/site-packages/sklearn/utils/validation.py\", line 598, in check_array\n",
      "    array = np.asarray(array, order=order, dtype=dtype)\n",
      "  File \"/Users/myra/opt/anaconda3/lib/python3.8/site-packages/numpy/core/_asarray.py\", line 83, in asarray\n",
      "    return array(a, dtype, copy=False, order=order)\n",
      "  File \"/Users/myra/opt/anaconda3/lib/python3.8/site-packages/pandas/core/generic.py\", line 1781, in __array__\n",
      "    return np.asarray(self._values, dtype=dtype)\n",
      "  File \"/Users/myra/opt/anaconda3/lib/python3.8/site-packages/numpy/core/_asarray.py\", line 83, in asarray\n",
      "    return array(a, dtype, copy=False, order=order)\n",
      "ValueError: could not convert string to float: 'MINI'\n",
      "\n",
      "  warnings.warn(\"Estimator fit failed. The score on this train-test\"\n",
      "/Users/myra/opt/anaconda3/lib/python3.8/site-packages/sklearn/model_selection/_validation.py:548: FitFailedWarning: Estimator fit failed. The score on this train-test partition for these parameters will be set to nan. Details: \n",
      "Traceback (most recent call last):\n",
      "  File \"/Users/myra/opt/anaconda3/lib/python3.8/site-packages/sklearn/model_selection/_validation.py\", line 531, in _fit_and_score\n",
      "    estimator.fit(X_train, y_train, **fit_params)\n",
      "  File \"/Users/myra/opt/anaconda3/lib/python3.8/site-packages/sklearn/ensemble/_forest.py\", line 303, in fit\n",
      "    X, y = self._validate_data(X, y, multi_output=True,\n",
      "  File \"/Users/myra/opt/anaconda3/lib/python3.8/site-packages/sklearn/base.py\", line 432, in _validate_data\n",
      "    X, y = check_X_y(X, y, **check_params)\n",
      "  File \"/Users/myra/opt/anaconda3/lib/python3.8/site-packages/sklearn/utils/validation.py\", line 72, in inner_f\n",
      "    return f(**kwargs)\n",
      "  File \"/Users/myra/opt/anaconda3/lib/python3.8/site-packages/sklearn/utils/validation.py\", line 795, in check_X_y\n",
      "    X = check_array(X, accept_sparse=accept_sparse,\n",
      "  File \"/Users/myra/opt/anaconda3/lib/python3.8/site-packages/sklearn/utils/validation.py\", line 72, in inner_f\n",
      "    return f(**kwargs)\n",
      "  File \"/Users/myra/opt/anaconda3/lib/python3.8/site-packages/sklearn/utils/validation.py\", line 598, in check_array\n",
      "    array = np.asarray(array, order=order, dtype=dtype)\n",
      "  File \"/Users/myra/opt/anaconda3/lib/python3.8/site-packages/numpy/core/_asarray.py\", line 83, in asarray\n",
      "    return array(a, dtype, copy=False, order=order)\n",
      "  File \"/Users/myra/opt/anaconda3/lib/python3.8/site-packages/pandas/core/generic.py\", line 1781, in __array__\n",
      "    return np.asarray(self._values, dtype=dtype)\n",
      "  File \"/Users/myra/opt/anaconda3/lib/python3.8/site-packages/numpy/core/_asarray.py\", line 83, in asarray\n",
      "    return array(a, dtype, copy=False, order=order)\n",
      "ValueError: could not convert string to float: 'MINI'\n",
      "\n",
      "  warnings.warn(\"Estimator fit failed. The score on this train-test\"\n"
     ]
    },
    {
     "name": "stdout",
     "output_type": "stream",
     "text": [
      "[baseline score]: [nan nan nan nan nan]\n"
     ]
    },
    {
     "name": "stderr",
     "output_type": "stream",
     "text": [
      "/Users/myra/opt/anaconda3/lib/python3.8/site-packages/sklearn/model_selection/_validation.py:548: FitFailedWarning: Estimator fit failed. The score on this train-test partition for these parameters will be set to nan. Details: \n",
      "Traceback (most recent call last):\n",
      "  File \"/Users/myra/opt/anaconda3/lib/python3.8/site-packages/sklearn/model_selection/_validation.py\", line 531, in _fit_and_score\n",
      "    estimator.fit(X_train, y_train, **fit_params)\n",
      "  File \"/Users/myra/opt/anaconda3/lib/python3.8/site-packages/sklearn/ensemble/_forest.py\", line 303, in fit\n",
      "    X, y = self._validate_data(X, y, multi_output=True,\n",
      "  File \"/Users/myra/opt/anaconda3/lib/python3.8/site-packages/sklearn/base.py\", line 432, in _validate_data\n",
      "    X, y = check_X_y(X, y, **check_params)\n",
      "  File \"/Users/myra/opt/anaconda3/lib/python3.8/site-packages/sklearn/utils/validation.py\", line 72, in inner_f\n",
      "    return f(**kwargs)\n",
      "  File \"/Users/myra/opt/anaconda3/lib/python3.8/site-packages/sklearn/utils/validation.py\", line 795, in check_X_y\n",
      "    X = check_array(X, accept_sparse=accept_sparse,\n",
      "  File \"/Users/myra/opt/anaconda3/lib/python3.8/site-packages/sklearn/utils/validation.py\", line 72, in inner_f\n",
      "    return f(**kwargs)\n",
      "  File \"/Users/myra/opt/anaconda3/lib/python3.8/site-packages/sklearn/utils/validation.py\", line 598, in check_array\n",
      "    array = np.asarray(array, order=order, dtype=dtype)\n",
      "  File \"/Users/myra/opt/anaconda3/lib/python3.8/site-packages/numpy/core/_asarray.py\", line 83, in asarray\n",
      "    return array(a, dtype, copy=False, order=order)\n",
      "  File \"/Users/myra/opt/anaconda3/lib/python3.8/site-packages/pandas/core/generic.py\", line 1781, in __array__\n",
      "    return np.asarray(self._values, dtype=dtype)\n",
      "  File \"/Users/myra/opt/anaconda3/lib/python3.8/site-packages/numpy/core/_asarray.py\", line 83, in asarray\n",
      "    return array(a, dtype, copy=False, order=order)\n",
      "ValueError: could not convert string to float: 'MINI'\n",
      "\n",
      "  warnings.warn(\"Estimator fit failed. The score on this train-test\"\n",
      "/Users/myra/opt/anaconda3/lib/python3.8/site-packages/sklearn/model_selection/_validation.py:548: FitFailedWarning: Estimator fit failed. The score on this train-test partition for these parameters will be set to nan. Details: \n",
      "Traceback (most recent call last):\n",
      "  File \"/Users/myra/opt/anaconda3/lib/python3.8/site-packages/sklearn/model_selection/_validation.py\", line 531, in _fit_and_score\n",
      "    estimator.fit(X_train, y_train, **fit_params)\n",
      "  File \"/Users/myra/opt/anaconda3/lib/python3.8/site-packages/sklearn/ensemble/_forest.py\", line 303, in fit\n",
      "    X, y = self._validate_data(X, y, multi_output=True,\n",
      "  File \"/Users/myra/opt/anaconda3/lib/python3.8/site-packages/sklearn/base.py\", line 432, in _validate_data\n",
      "    X, y = check_X_y(X, y, **check_params)\n",
      "  File \"/Users/myra/opt/anaconda3/lib/python3.8/site-packages/sklearn/utils/validation.py\", line 72, in inner_f\n",
      "    return f(**kwargs)\n",
      "  File \"/Users/myra/opt/anaconda3/lib/python3.8/site-packages/sklearn/utils/validation.py\", line 795, in check_X_y\n",
      "    X = check_array(X, accept_sparse=accept_sparse,\n",
      "  File \"/Users/myra/opt/anaconda3/lib/python3.8/site-packages/sklearn/utils/validation.py\", line 72, in inner_f\n",
      "    return f(**kwargs)\n",
      "  File \"/Users/myra/opt/anaconda3/lib/python3.8/site-packages/sklearn/utils/validation.py\", line 598, in check_array\n",
      "    array = np.asarray(array, order=order, dtype=dtype)\n",
      "  File \"/Users/myra/opt/anaconda3/lib/python3.8/site-packages/numpy/core/_asarray.py\", line 83, in asarray\n",
      "    return array(a, dtype, copy=False, order=order)\n",
      "  File \"/Users/myra/opt/anaconda3/lib/python3.8/site-packages/pandas/core/generic.py\", line 1781, in __array__\n",
      "    return np.asarray(self._values, dtype=dtype)\n",
      "  File \"/Users/myra/opt/anaconda3/lib/python3.8/site-packages/numpy/core/_asarray.py\", line 83, in asarray\n",
      "    return array(a, dtype, copy=False, order=order)\n",
      "ValueError: could not convert string to float: 'MINI'\n",
      "\n",
      "  warnings.warn(\"Estimator fit failed. The score on this train-test\"\n"
     ]
    }
   ],
   "source": [
    "from sklearn.ensemble import RandomForestRegressor\n",
    "from sklearn.model_selection import cross_val_score\n",
    "\n",
    "X = train.copy()\n",
    "y = X.pop('price')\n",
    "\n",
    "baseline = RandomForestRegressor(criterion='squared_error', random_state=0)\n",
    "baseline_score = cross_val_score(baseline, X, y, cv=5)\n",
    "print(f'[baseline score]: {baseline_score}')"
   ]
  }
 ],
 "metadata": {
  "kernelspec": {
   "display_name": "base",
   "language": "python",
   "name": "python3"
  },
  "language_info": {
   "codemirror_mode": {
    "name": "ipython",
    "version": 3
   },
   "file_extension": ".py",
   "mimetype": "text/x-python",
   "name": "python",
   "nbconvert_exporter": "python",
   "pygments_lexer": "ipython3",
   "version": "3.8.5"
  }
 },
 "nbformat": 4,
 "nbformat_minor": 2
}
